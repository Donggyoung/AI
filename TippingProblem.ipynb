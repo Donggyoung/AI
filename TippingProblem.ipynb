{
  "nbformat": 4,
  "nbformat_minor": 0,
  "metadata": {
    "colab": {
      "name": "TippingProblem.ipynb",
      "provenance": [],
      "collapsed_sections": []
    },
    "kernelspec": {
      "name": "python3",
      "display_name": "Python 3"
    }
  },
  "cells": [
    {
      "cell_type": "code",
      "metadata": {
        "id": "xmp9IZrcTHle",
        "colab_type": "code",
        "colab": {
          "base_uri": "https://localhost:8080/",
          "height": 105
        },
        "outputId": "9aa5c170-6297-4622-c7e6-c805ba0ed3b8"
      },
      "source": [
        "!pip install scikit-fuzzy #colab에 skfuzzy 안깔려져있다"
      ],
      "execution_count": 1,
      "outputs": [
        {
          "output_type": "stream",
          "text": [
            "Requirement already satisfied: scikit-fuzzy in /usr/local/lib/python3.6/dist-packages (0.4.2)\n",
            "Requirement already satisfied: numpy>=1.6.0 in /usr/local/lib/python3.6/dist-packages (from scikit-fuzzy) (1.18.5)\n",
            "Requirement already satisfied: networkx>=1.9.0 in /usr/local/lib/python3.6/dist-packages (from scikit-fuzzy) (2.5)\n",
            "Requirement already satisfied: scipy>=0.9.0 in /usr/local/lib/python3.6/dist-packages (from scikit-fuzzy) (1.4.1)\n",
            "Requirement already satisfied: decorator>=4.3.0 in /usr/local/lib/python3.6/dist-packages (from networkx>=1.9.0->scikit-fuzzy) (4.4.2)\n"
          ],
          "name": "stdout"
        }
      ]
    },
    {
      "cell_type": "code",
      "metadata": {
        "id": "Jp7EnBXkS2uB",
        "colab_type": "code",
        "colab": {}
      },
      "source": [
        "import numpy as np\n",
        "import skfuzzy as fuzz # 구글 코랩에 안깔려있다\n",
        "from skfuzzy import control as ctrl\n",
        "\n",
        "# New Antecedent/Consequent objects hold universe variables and membership\n",
        "# functions\n",
        "quality = ctrl.Antecedent(np.arange(0, 11, 1), 'quality') # 입력변수 범위 정함 0~10값, 이름 정함\n",
        "service = ctrl.Antecedent(np.arange(0, 11, 1), 'service') # 또 다른 입력변수 범위 정함\n",
        "tip = ctrl.Consequent(np.arange(0, 26, 1), 'tip') # 출력변수 0~25\n",
        "\n",
        "# Auto-membership function population is possible with .automf(3, 5, or 7)\n",
        "quality.automf(3) # 3개로 나눈다\n",
        "service.automf(3)\n",
        "\n",
        "# Custom membership functions can be built interactively with a familiar,\n",
        "# Pythonic API\n",
        "tip['low'] = fuzz.trimf(tip.universe, [0, 0, 13]) # tri 트라이앵글\n",
        "tip['medium'] = fuzz.trimf(tip.universe, [0, 13, 25])\n",
        "tip['high'] = fuzz.trimf(tip.universe, [13, 25, 25])"
      ],
      "execution_count": 2,
      "outputs": []
    },
    {
      "cell_type": "code",
      "metadata": {
        "id": "i_JOrFznT4T1",
        "colab_type": "code",
        "colab": {}
      },
      "source": [
        "rule1 = ctrl.Rule(quality['poor'] | service['poor'], tip['low'])\n",
        "rule2 = ctrl.Rule(service['average'], tip['medium']) \n",
        "rule3 = ctrl.Rule(service['good'] | quality['good'], tip['high']) # 서비스 좋거나(OR) 퀄리티 좋으면(THEN) tip=high"
      ],
      "execution_count": 3,
      "outputs": []
    },
    {
      "cell_type": "code",
      "metadata": {
        "id": "jPPChwKOT6_c",
        "colab_type": "code",
        "colab": {}
      },
      "source": [
        "tipping_ctrl = ctrl.ControlSystem([rule1, rule2, rule3]) # 컨트롤 모델 생성"
      ],
      "execution_count": 4,
      "outputs": []
    },
    {
      "cell_type": "code",
      "metadata": {
        "id": "ZEo5sdqET8zQ",
        "colab_type": "code",
        "colab": {}
      },
      "source": [
        "tipping = ctrl.ControlSystemSimulation(tipping_ctrl)"
      ],
      "execution_count": 5,
      "outputs": []
    },
    {
      "cell_type": "code",
      "metadata": {
        "id": "l6UZ1HanT_O7",
        "colab_type": "code",
        "colab": {}
      },
      "source": [
        "# Pass inputs to the ControlSystem using Antecedent labels with Pythonic API\n",
        "# Note: if you like passing many inputs all at once, use .inputs(dict_of_data)\n",
        "tipping.input['quality'] = 6.5 # 음식 퀄리티\n",
        "tipping.input['service'] = 9.8 # 서비스 퀄리티\n",
        "\n",
        "# Crunch the numbers\n",
        "tipping.compute() # 퍼지 추론 시작"
      ],
      "execution_count": 6,
      "outputs": []
    },
    {
      "cell_type": "code",
      "metadata": {
        "id": "B0N8l5WAUBBj",
        "colab_type": "code",
        "colab": {
          "base_uri": "https://localhost:8080/",
          "height": 298
        },
        "outputId": "fb6264d5-a31c-4531-a384-ef22767e4d4b"
      },
      "source": [
        "print(tipping.output['tip']) #결론\n",
        "tip.view(sim=tipping) # 19.84% tip"
      ],
      "execution_count": 7,
      "outputs": [
        {
          "output_type": "stream",
          "text": [
            "19.847607361963192\n"
          ],
          "name": "stdout"
        },
        {
          "output_type": "display_data",
          "data": {
            "image/png": "[encoded data removed]",
            "text/plain": [
              "<Figure size 432x288 with 1 Axes>"
            ]
          },
          "metadata": {
            "tags": [],
            "needs_background": "light"
          }
        }
      ]
    },
    {
      "cell_type": "code",
      "metadata": {
        "id": "6gtzF2SuUEcj",
        "colab_type": "code",
        "colab": {}
      },
      "source": [
        ""
      ],
      "execution_count": 7,
      "outputs": []
    }
  ]
}
