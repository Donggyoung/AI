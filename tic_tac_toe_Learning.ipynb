{
  "nbformat": 4,
  "nbformat_minor": 0,
  "metadata": {
    "colab": {
      "name": "tic_tac_toe_Learning3.ipynb",
      "private_outputs": true,
      "provenance": [],
      "collapsed_sections": []
    },
    "kernelspec": {
      "name": "python3",
      "display_name": "Python 3"
    }
  },
  "cells": [
    {
      "cell_type": "code",
      "metadata": {
        "id": "ot_XNM1weW-J"
      },
      "source": [
        "from google.colab import drive\n",
        "drive.mount('/content/drive') # 구글 드라이브에 있는 데이터 가져오기 위해 dirve.mount"
      ],
      "execution_count": null,
      "outputs": []
    },
    {
      "cell_type": "code",
      "metadata": {
        "id": "_jtRZ9t6eYMu"
      },
      "source": [
        "import numpy as np\n",
        "import tensorflow as tf\n",
        "import matplotlib.pyplot as plt\n",
        "import pandas as pd\n",
        "import random"
      ],
      "execution_count": null,
      "outputs": []
    },
    {
      "cell_type": "code",
      "metadata": {
        "id": "tXCY55VKen8H"
      },
      "source": [
        "ttt_data = pd.read_csv('drive/MyDrive/data/tic-tac-toe.csv') # csv 파일 불러오기\n",
        "print(\"데이터 변환 전 데이터 = \",ttt_data) # 변환 전 ttt_data 출력하기\n",
        "\n",
        "# 문자인 데이터 값을 정수로 바꾼다\n",
        "ttt_mapping = {'x': 2, 'o': 3, 'b':4, True :0, False: 1}\n",
        "ttt_data['TL'] = ttt_data['TL'].map(ttt_mapping)\n",
        "ttt_data['TM'] = ttt_data['TM'].map(ttt_mapping)\n",
        "ttt_data['TR'] = ttt_data['TR'].map(ttt_mapping)\n",
        "ttt_data['ML'] = ttt_data['ML'].map(ttt_mapping)\n",
        "ttt_data['MM'] = ttt_data['MM'].map(ttt_mapping)\n",
        "ttt_data['MR'] = ttt_data['MR'].map(ttt_mapping)\n",
        "ttt_data['BL'] = ttt_data['BL'].map(ttt_mapping)\n",
        "ttt_data['BM'] = ttt_data['BM'].map(ttt_mapping)\n",
        "ttt_data['BR'] = ttt_data['BR'].map(ttt_mapping)\n",
        "ttt_data['class'] = ttt_data['class'].map(ttt_mapping)\n",
        "\n",
        "print(\"데이터 변환 후 데이터 = \", ttt_data)"
      ],
      "execution_count": null,
      "outputs": []
    },
    {
      "cell_type": "code",
      "metadata": {
        "id": "up5nItnyeuuK"
      },
      "source": [
        "convertData = pd.DataFrame(ttt_data) # 변환한 데이터를 ttt_data를 convertData에 저장한다\n",
        "convertData.to_csv('convert_data.csv') # convertData를 convert_data.csv에 저장한다"
      ],
      "execution_count": null,
      "outputs": []
    },
    {
      "cell_type": "code",
      "metadata": {
        "id": "8uaJMPmcexz2"
      },
      "source": [
        "def load_ttt(shuffle=True):   \n",
        "    data = np.loadtxt(\"convert_data.csv\", skiprows=1, delimiter=',') # convert_data.csv 읽어온다, 맨 위의 행 1 skip, 구분자 ','\n",
        "    if shuffle == True:\n",
        "        np.random.shuffle(data) # data를 난수로 섞음\n",
        "    return data\n",
        "\n",
        "convert_data = load_ttt() # convert_data에 데이터 불러온다\n",
        "\n",
        "print(\"load_ttt() 후 데이터 = \", convert_data)"
      ],
      "execution_count": null,
      "outputs": []
    },
    {
      "cell_type": "code",
      "metadata": {
        "id": "NqsD6nQxezsB"
      },
      "source": [
        "def train_test_data_set(convert_data, test_rate=0.4): # train: 0.6, test: 0.4\n",
        "    n = int(convert_data.shape[0]*(1-test_rate))\n",
        "    x_train = convert_data[:n, 1:-1] \n",
        "    y_train = convert_data[:n, -1]\n",
        "    \n",
        "    x_test = convert_data[n:, 1:-1]\n",
        "    y_test = convert_data[n:, -1]\n",
        "    return (x_train, y_train), (x_test, y_test)\n",
        "\n",
        "(x_train, y_train), (x_test, y_test) = train_test_data_set(convert_data, test_rate=0.4) # train_data 60%, test_data 40%\n",
        "print(\"n:\", int(convert_data.shape[0]*(1-0.4)))\n",
        "print(\"x_train.shape:\", x_train.shape) # 574x9\n",
        "print(\"y_train.shape:\", y_train.shape) # 574x1\n",
        "print(\"x_test.shape:\",  x_test.shape) # 384x9\n",
        "print(\"y_test.shape:\",  y_test.shape) # 384x1"
      ],
      "execution_count": null,
      "outputs": []
    },
    {
      "cell_type": "code",
      "metadata": {
        "id": "ANFS2238e2y2"
      },
      "source": [
        "y_train = tf.keras.utils.to_categorical(y_train) # 원핫 인코딩\n",
        "y_test = tf.keras.utils.to_categorical(y_test)\n",
        "#print(\"y_train = \", y_train)\n",
        "#print(\"y_test = \", y_test)"
      ],
      "execution_count": null,
      "outputs": []
    },
    {
      "cell_type": "markdown",
      "metadata": {
        "id": "OFUHfkILe_CT"
      },
      "source": [
        "#학습-1"
      ]
    },
    {
      "cell_type": "code",
      "metadata": {
        "id": "C-xtudkpe5aK"
      },
      "source": [
        "n = 10  # number of neurons in a hidden layer\n",
        "# 모델 생성\n",
        "model = tf.keras.Sequential()\n",
        "model.add(tf.keras.layers.Dense(units=n, input_dim=9, activation='sigmoid'))\n",
        "model.add(tf.keras.layers.Dense(units=2, activation='softmax'))\n",
        "model.summary()\n",
        "\n",
        "def MSE(y, t):\n",
        "    return tf.reduce_mean(tf.square(y - t)) # (y - t)**2\n",
        "\n",
        "CCE = tf.keras.losses.CategoricalCrossentropy()\n",
        "\n",
        "# 모델 어떻게 학습 시킬 것인지 설정\n",
        "opt = tf.keras.optimizers.RMSprop(learning_rate=0.01)\n",
        "model.compile(optimizer=opt, loss= MSE, metrics=['accuracy'])\n",
        "\n",
        "# 모델 학습\n",
        "ret = model.fit(x_train, y_train, epochs=100, verbose=2) # batch_size=32\n",
        "print(\"len(model.layers):\", len(model.layers))  # 2\n",
        "loss = ret.history['loss']\n",
        "plt.plot(loss)\n",
        "plt.xlabel('epochs')\n",
        "plt.ylabel('loss')\n",
        "plt.show()"
      ],
      "execution_count": null,
      "outputs": []
    },
    {
      "cell_type": "code",
      "metadata": {
        "id": "4-OU4Rp5fDpX"
      },
      "source": [
        "# 손실 값, 정확도 판별\n",
        "train_loss, train_acc = model.evaluate(x_train, y_train, verbose=2)\n",
        "test_loss, test_acc = model.evaluate(x_test,  y_test, verbose=2)\n",
        "y_pred = model.predict(x_train)\n",
        "y_label = np.argmax(y_pred, axis = 1)\n",
        "C = tf.math.confusion_matrix(np.argmax(y_train, axis = 1), y_label)\n",
        "print(\"confusion_matrix(C):\", C)"
      ],
      "execution_count": null,
      "outputs": []
    },
    {
      "cell_type": "markdown",
      "metadata": {
        "id": "IeQUs1cOfI0j"
      },
      "source": [
        "#학습-2"
      ]
    },
    {
      "cell_type": "code",
      "metadata": {
        "id": "6ehGBQ2LfFgV"
      },
      "source": [
        "model = tf.keras.Sequential()\n",
        "model.add(tf.keras.layers.Dense(units=n, input_dim=9, activation='sigmoid'))\n",
        "model.add(tf.keras.layers.Dense(units=2, activation='softmax'))\n",
        "model.summary()\n",
        "\n",
        "def MSE(y, t):\n",
        "    return tf.reduce_mean(tf.square(y - t)) # (y - t)**2\n",
        "\n",
        "CCE = tf.keras.losses.CategoricalCrossentropy()\n",
        "\n",
        "opt = tf.keras.optimizers.RMSprop(learning_rate=0.001)\n",
        "model.compile(optimizer=opt, loss=CCE, metrics=['accuracy'])\n",
        "\n",
        "ret = model.fit(x_train, y_train, epochs=200, verbose=2) # batch_size=32\n",
        "print(\"len(model.layers):\", len(model.layers))  # 2\n",
        "loss = ret.history['loss']\n",
        "plt.plot(loss)\n",
        "plt.xlabel('epochs')\n",
        "plt.ylabel('loss')\n",
        "plt.show()"
      ],
      "execution_count": null,
      "outputs": []
    },
    {
      "cell_type": "code",
      "metadata": {
        "id": "Z20FL8wQfKes"
      },
      "source": [
        "\n",
        "train_loss, train_acc = model.evaluate(x_train, y_train, verbose=2)\n",
        "test_loss, test_acc = model.evaluate(x_test,  y_test, verbose=2)\n",
        "y_pred = model.predict(x_train)\n",
        "y_label = np.argmax(y_pred, axis = 1)\n",
        "C = tf.math.confusion_matrix(np.argmax(y_train, axis = 1), y_label)\n",
        "print(\"confusion_matrix(C):\", C)"
      ],
      "execution_count": null,
      "outputs": []
    },
    {
      "cell_type": "code",
      "metadata": {
        "id": "9zBdTTQtfMeL"
      },
      "source": [
        ""
      ],
      "execution_count": null,
      "outputs": []
    }
  ]
}