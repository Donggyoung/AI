{
  "nbformat": 4,
  "nbformat_minor": 0,
  "metadata": {
    "colab": {
      "name": "step11_01 퀴즈.ipynb",
      "provenance": [],
      "collapsed_sections": []
    },
    "kernelspec": {
      "name": "python3",
      "display_name": "Python 3"
    },
    "accelerator": "GPU"
  },
  "cells": [
    {
      "cell_type": "code",
      "metadata": {
        "id": "Qe-8rMB7_mcV",
        "outputId": "b6fa1cd4-5d7e-4406-9a33-2f5f7601e657",
        "colab": {
          "base_uri": "https://localhost:8080/",
          "height": 777
        }
      },
      "source": [
        "import tensorflow as tf\n",
        "import numpy as np\n",
        "import matplotlib.pyplot as plt\n",
        "\n",
        "MSE = tf.keras.losses.MeanSquaredError()\n",
        "def mse_loss():\n",
        "     y = x*w + b\n",
        "     return MSE(y, t) # tf.reduce_mean(tf.square(y - t))\n",
        "\n",
        "EPOCH = 1000\n",
        "train_size = 20\n",
        "\n",
        "# create the train data\n",
        "tf.random.set_seed(1) # np.random.seed(1)\n",
        "x = np.linspace(0.0, 10.0, num=train_size)\n",
        "print(x)\n",
        "w_true, b_true = 3, -10  # truth, line parameters\n",
        "t = x*w_true + b_true + np.random.normal(0.0, 2.0, size=train_size) # 평균 = 0.0, 표준 편차 = 2.0, size=20\n",
        "\n",
        "# train parameters\n",
        "w = tf.Variable(tf.random.normal([]))\n",
        "b = tf.Variable(tf.random.normal([]))\n",
        "\n",
        "opt = tf.keras.optimizers.SGD(learning_rate=0.01)\n",
        "\n",
        "batch_size = 4\n",
        "K = train_size // batch_size\n",
        "\n",
        "loss_list = []\n",
        "for epoch in range(EPOCH):   \n",
        "    batch_loss = 0.0\n",
        "    for step in range(K):\n",
        "        mask = np.random.choice(train_size, batch_size)\n",
        "        # print(mask)\n",
        "        x_batch = x[mask]\n",
        "        t_batch = t[mask]\n",
        "        opt.minimize(mse_loss, var_list= [w, b])\n",
        "        loss = mse_loss().numpy()\n",
        "        batch_loss += loss\n",
        "    batch_loss /= K\n",
        "    loss_list.append(batch_loss) \n",
        "    if not epoch%100:\n",
        "        print(\"epoch={}: loss={}\".format(epoch, loss))\n",
        "\n",
        "print(\"w={:>.4f}. b={:>.4f}, loss={}\".format(w.numpy(), b.numpy(), loss)) # w_true = 3, b_true = -10\n",
        "\n",
        "plt.plot(loss_list)\n",
        "plt.show()\n",
        "\n",
        "plt.scatter(x, t)  # train data plot\n",
        "\n",
        "w_pred, b_pred = w.numpy(), b.numpy() # predicted, line parameters\n",
        "t_pred= x*w_pred + b_pred \n",
        "plt.plot(x, t_pred, 'r-')\n",
        "plt.show()\n"
      ],
      "execution_count": 6,
      "outputs": [
        {
          "output_type": "stream",
          "text": [
            "[ 0.          0.52631579  1.05263158  1.57894737  2.10526316  2.63157895\n",
            "  3.15789474  3.68421053  4.21052632  4.73684211  5.26315789  5.78947368\n",
            "  6.31578947  6.84210526  7.36842105  7.89473684  8.42105263  8.94736842\n",
            "  9.47368421 10.        ]\n",
            "epoch=0: loss=36.28370666503906\n",
            "epoch=100: loss=4.2634782791137695\n",
            "epoch=200: loss=4.10125207901001\n",
            "epoch=300: loss=4.100430011749268\n",
            "epoch=400: loss=4.10042667388916\n",
            "epoch=500: loss=4.100425720214844\n",
            "epoch=600: loss=4.100425720214844\n",
            "epoch=700: loss=4.100425720214844\n",
            "epoch=800: loss=4.100425720214844\n",
            "epoch=900: loss=4.100425720214844\n",
            "w=3.0367. b=-10.4558, loss=4.100425720214844\n"
          ],
          "name": "stdout"
        },
        {
          "output_type": "display_data",
          "data": {
            "image/png": "[encoded data removed]",
            "text/plain": [
              "<Figure size 432x288 with 1 Axes>"
            ]
          },
          "metadata": {
            "tags": [],
            "needs_background": "light"
          }
        },
        {
          "output_type": "display_data",
          "data": {
            "image/png": "[encoded data removed]",
            "text/plain": [
              "<Figure size 432x288 with 1 Axes>"
            ]
          },
          "metadata": {
            "tags": [],
            "needs_background": "light"
          }
        }
      ]
    },
    {
      "cell_type": "code",
      "metadata": {
        "id": "HA7CUnTcM6A5"
      },
      "source": [
        ""
      ],
      "execution_count": null,
      "outputs": []
    }
  ]
}
